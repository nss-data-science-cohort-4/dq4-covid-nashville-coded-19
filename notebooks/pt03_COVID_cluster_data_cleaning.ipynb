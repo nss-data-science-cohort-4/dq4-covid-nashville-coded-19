{
 "cells": [
  {
   "cell_type": "markdown",
   "metadata": {},
   "source": [
    "# Read in and explore the COVID-19 clusters dataframes\n",
    "\n",
    "The Metro Public Health Department tracks COVID-19 clusters. The files `clusters.csv` and `clusters_by_type.csv` contain the tables of clusters as reported by WSMV along with the coordinates of the clusters. Can you find any connection between the reported COVID violations and subsequent COVID clusters?"
   ]
  },
  {
   "cell_type": "code",
   "execution_count": 1,
   "metadata": {},
   "outputs": [],
   "source": [
    "import pandas as pd"
   ]
  },
  {
   "cell_type": "code",
   "execution_count": 2,
   "metadata": {},
   "outputs": [
    {
     "data": {
      "text/html": [
       "<div>\n",
       "<style scoped>\n",
       "    .dataframe tbody tr th:only-of-type {\n",
       "        vertical-align: middle;\n",
       "    }\n",
       "\n",
       "    .dataframe tbody tr th {\n",
       "        vertical-align: top;\n",
       "    }\n",
       "\n",
       "    .dataframe thead th {\n",
       "        text-align: right;\n",
       "    }\n",
       "</style>\n",
       "<table border=\"1\" class=\"dataframe\">\n",
       "  <thead>\n",
       "    <tr style=\"text-align: right;\">\n",
       "      <th></th>\n",
       "      <th>Cluster Name</th>\n",
       "      <th>Facility Type</th>\n",
       "      <th>Cluster Start Date</th>\n",
       "      <th># Cases</th>\n",
       "      <th>Latitude</th>\n",
       "      <th>Longitude</th>\n",
       "    </tr>\n",
       "  </thead>\n",
       "  <tbody>\n",
       "    <tr>\n",
       "      <th>0</th>\n",
       "      <td>Vanderbilt Parties</td>\n",
       "      <td>Social Gathering</td>\n",
       "      <td>3/11/2020</td>\n",
       "      <td>49</td>\n",
       "      <td>36.125891</td>\n",
       "      <td>-86.822863</td>\n",
       "    </tr>\n",
       "    <tr>\n",
       "      <th>1</th>\n",
       "      <td>Event at Clementine Hall</td>\n",
       "      <td>Social Gathering</td>\n",
       "      <td>3/14/2020</td>\n",
       "      <td>23</td>\n",
       "      <td>36.152444</td>\n",
       "      <td>-86.8467716</td>\n",
       "    </tr>\n",
       "    <tr>\n",
       "      <th>2</th>\n",
       "      <td>Religious Retreat</td>\n",
       "      <td>Social Gathering</td>\n",
       "      <td>3/25/2020</td>\n",
       "      <td>18</td>\n",
       "      <td>NaN</td>\n",
       "      <td>NaN</td>\n",
       "    </tr>\n",
       "    <tr>\n",
       "      <th>3</th>\n",
       "      <td>The Health Center at Richland Place</td>\n",
       "      <td>LTCF</td>\n",
       "      <td>4/3/2020</td>\n",
       "      <td>47</td>\n",
       "      <td>36.128750</td>\n",
       "      <td>-86.8195333</td>\n",
       "    </tr>\n",
       "    <tr>\n",
       "      <th>4</th>\n",
       "      <td>Trevecca Center for Rehab and Healing</td>\n",
       "      <td>LTCF</td>\n",
       "      <td>4/4/2020</td>\n",
       "      <td>102</td>\n",
       "      <td>36.144562</td>\n",
       "      <td>-86.7567485</td>\n",
       "    </tr>\n",
       "  </tbody>\n",
       "</table>\n",
       "</div>"
      ],
      "text/plain": [
       "                            Cluster Name     Facility Type Cluster Start Date  \\\n",
       "0                     Vanderbilt Parties  Social Gathering          3/11/2020   \n",
       "1               Event at Clementine Hall  Social Gathering          3/14/2020   \n",
       "2                      Religious Retreat  Social Gathering          3/25/2020   \n",
       "3    The Health Center at Richland Place              LTCF           4/3/2020   \n",
       "4  Trevecca Center for Rehab and Healing              LTCF           4/4/2020   \n",
       "\n",
       "   # Cases   Latitude    Longitude  \n",
       "0       49  36.125891   -86.822863  \n",
       "1       23  36.152444  -86.8467716  \n",
       "2       18        NaN          NaN  \n",
       "3       47  36.128750  -86.8195333  \n",
       "4      102  36.144562  -86.7567485  "
      ]
     },
     "execution_count": 2,
     "metadata": {},
     "output_type": "execute_result"
    }
   ],
   "source": [
    "clusters = pd.read_csv('../data/clusters.csv')\n",
    "clusters.head()"
   ]
  },
  {
   "cell_type": "code",
   "execution_count": 3,
   "metadata": {},
   "outputs": [
    {
     "name": "stdout",
     "output_type": "stream",
     "text": [
      "<class 'pandas.core.frame.DataFrame'>\n",
      "RangeIndex: 62 entries, 0 to 61\n",
      "Data columns (total 6 columns):\n",
      " #   Column              Non-Null Count  Dtype  \n",
      "---  ------              --------------  -----  \n",
      " 0   Cluster Name        62 non-null     object \n",
      " 1   Facility Type       62 non-null     object \n",
      " 2   Cluster Start Date  62 non-null     object \n",
      " 3   # Cases             62 non-null     int64  \n",
      " 4   Latitude            52 non-null     float64\n",
      " 5   Longitude           52 non-null     object \n",
      "dtypes: float64(1), int64(1), object(4)\n",
      "memory usage: 3.0+ KB\n"
     ]
    }
   ],
   "source": [
    "clusters.info()"
   ]
  },
  {
   "cell_type": "code",
   "execution_count": 4,
   "metadata": {},
   "outputs": [
    {
     "data": {
      "text/html": [
       "<div>\n",
       "<style scoped>\n",
       "    .dataframe tbody tr th:only-of-type {\n",
       "        vertical-align: middle;\n",
       "    }\n",
       "\n",
       "    .dataframe tbody tr th {\n",
       "        vertical-align: top;\n",
       "    }\n",
       "\n",
       "    .dataframe thead th {\n",
       "        text-align: right;\n",
       "    }\n",
       "</style>\n",
       "<table border=\"1\" class=\"dataframe\">\n",
       "  <thead>\n",
       "    <tr style=\"text-align: right;\">\n",
       "      <th></th>\n",
       "      <th>cluster_name</th>\n",
       "      <th>type</th>\n",
       "      <th>start_date</th>\n",
       "      <th>no_cases</th>\n",
       "      <th>lat</th>\n",
       "      <th>long</th>\n",
       "    </tr>\n",
       "  </thead>\n",
       "  <tbody>\n",
       "    <tr>\n",
       "      <th>0</th>\n",
       "      <td>Vanderbilt Parties</td>\n",
       "      <td>Social Gathering</td>\n",
       "      <td>3/11/2020</td>\n",
       "      <td>49</td>\n",
       "      <td>36.125891</td>\n",
       "      <td>-86.822863</td>\n",
       "    </tr>\n",
       "    <tr>\n",
       "      <th>1</th>\n",
       "      <td>Event at Clementine Hall</td>\n",
       "      <td>Social Gathering</td>\n",
       "      <td>3/14/2020</td>\n",
       "      <td>23</td>\n",
       "      <td>36.152444</td>\n",
       "      <td>-86.8467716</td>\n",
       "    </tr>\n",
       "    <tr>\n",
       "      <th>2</th>\n",
       "      <td>Religious Retreat</td>\n",
       "      <td>Social Gathering</td>\n",
       "      <td>3/25/2020</td>\n",
       "      <td>18</td>\n",
       "      <td>NaN</td>\n",
       "      <td>NaN</td>\n",
       "    </tr>\n",
       "    <tr>\n",
       "      <th>3</th>\n",
       "      <td>The Health Center at Richland Place</td>\n",
       "      <td>LTCF</td>\n",
       "      <td>4/3/2020</td>\n",
       "      <td>47</td>\n",
       "      <td>36.128750</td>\n",
       "      <td>-86.8195333</td>\n",
       "    </tr>\n",
       "    <tr>\n",
       "      <th>4</th>\n",
       "      <td>Trevecca Center for Rehab and Healing</td>\n",
       "      <td>LTCF</td>\n",
       "      <td>4/4/2020</td>\n",
       "      <td>102</td>\n",
       "      <td>36.144562</td>\n",
       "      <td>-86.7567485</td>\n",
       "    </tr>\n",
       "  </tbody>\n",
       "</table>\n",
       "</div>"
      ],
      "text/plain": [
       "                            cluster_name              type start_date  \\\n",
       "0                     Vanderbilt Parties  Social Gathering  3/11/2020   \n",
       "1               Event at Clementine Hall  Social Gathering  3/14/2020   \n",
       "2                      Religious Retreat  Social Gathering  3/25/2020   \n",
       "3    The Health Center at Richland Place              LTCF   4/3/2020   \n",
       "4  Trevecca Center for Rehab and Healing              LTCF   4/4/2020   \n",
       "\n",
       "   no_cases        lat         long  \n",
       "0        49  36.125891   -86.822863  \n",
       "1        23  36.152444  -86.8467716  \n",
       "2        18        NaN          NaN  \n",
       "3        47  36.128750  -86.8195333  \n",
       "4       102  36.144562  -86.7567485  "
      ]
     },
     "execution_count": 4,
     "metadata": {},
     "output_type": "execute_result"
    }
   ],
   "source": [
    "clusters.columns = ['cluster_name', 'type', 'start_date', 'no_cases', 'lat', 'long']\n",
    "clusters.head()"
   ]
  },
  {
   "cell_type": "code",
   "execution_count": 6,
   "metadata": {},
   "outputs": [],
   "source": [
    "# Clean up data types in the clusters dataframe\n",
    "clusters.start_date = pd.to_datetime(clusters['start_date'], errors = 'raise')\n",
    "clusters.long = clusters.long.str.replace(',','')\n",
    "clusters.long = pd.to_numeric(clusters['long'], errors = 'raise')\n",
    "clusters.long.unique()"
   ]
  },
  {
   "cell_type": "code",
   "execution_count": 9,
   "metadata": {},
   "outputs": [
    {
     "name": "stdout",
     "output_type": "stream",
     "text": [
      "<class 'pandas.core.frame.DataFrame'>\n",
      "RangeIndex: 62 entries, 0 to 61\n",
      "Data columns (total 6 columns):\n",
      " #   Column        Non-Null Count  Dtype         \n",
      "---  ------        --------------  -----         \n",
      " 0   cluster_name  62 non-null     object        \n",
      " 1   type          62 non-null     object        \n",
      " 2   start_date    62 non-null     datetime64[ns]\n",
      " 3   no_cases      62 non-null     int64         \n",
      " 4   lat           52 non-null     float64       \n",
      " 5   long          52 non-null     float64       \n",
      "dtypes: datetime64[ns](1), float64(2), int64(1), object(2)\n",
      "memory usage: 3.0+ KB\n"
     ]
    }
   ],
   "source": [
    "# Check that the datatypes look good\n",
    "clusters.info()"
   ]
  },
  {
   "cell_type": "markdown",
   "metadata": {},
   "source": [
    "### Read in the Clusters by Type dataframe"
   ]
  },
  {
   "cell_type": "code",
   "execution_count": 10,
   "metadata": {},
   "outputs": [
    {
     "data": {
      "text/html": [
       "<div>\n",
       "<style scoped>\n",
       "    .dataframe tbody tr th:only-of-type {\n",
       "        vertical-align: middle;\n",
       "    }\n",
       "\n",
       "    .dataframe tbody tr th {\n",
       "        vertical-align: top;\n",
       "    }\n",
       "\n",
       "    .dataframe thead th {\n",
       "        text-align: right;\n",
       "    }\n",
       "</style>\n",
       "<table border=\"1\" class=\"dataframe\">\n",
       "  <thead>\n",
       "    <tr style=\"text-align: right;\">\n",
       "      <th></th>\n",
       "      <th>Cluster Type</th>\n",
       "      <th>Number of Clusters</th>\n",
       "    </tr>\n",
       "  </thead>\n",
       "  <tbody>\n",
       "    <tr>\n",
       "      <th>0</th>\n",
       "      <td>Bar</td>\n",
       "      <td>7</td>\n",
       "    </tr>\n",
       "    <tr>\n",
       "      <th>1</th>\n",
       "      <td>Church</td>\n",
       "      <td>2</td>\n",
       "    </tr>\n",
       "    <tr>\n",
       "      <th>2</th>\n",
       "      <td>College / University</td>\n",
       "      <td>5</td>\n",
       "    </tr>\n",
       "    <tr>\n",
       "      <th>3</th>\n",
       "      <td>Commercial-Warehouse</td>\n",
       "      <td>12</td>\n",
       "    </tr>\n",
       "    <tr>\n",
       "      <th>4</th>\n",
       "      <td>Congregate Living</td>\n",
       "      <td>13</td>\n",
       "    </tr>\n",
       "  </tbody>\n",
       "</table>\n",
       "</div>"
      ],
      "text/plain": [
       "           Cluster Type  Number of Clusters\n",
       "0                   Bar                   7\n",
       "1                Church                   2\n",
       "2  College / University                   5\n",
       "3  Commercial-Warehouse                  12\n",
       "4     Congregate Living                  13"
      ]
     },
     "execution_count": 10,
     "metadata": {},
     "output_type": "execute_result"
    }
   ],
   "source": [
    "clusters_by_type = pd.read_csv('../data/clusters_by_type.csv')\n",
    "clusters_by_type.head()"
   ]
  },
  {
   "cell_type": "code",
   "execution_count": 11,
   "metadata": {},
   "outputs": [
    {
     "name": "stdout",
     "output_type": "stream",
     "text": [
      "<class 'pandas.core.frame.DataFrame'>\n",
      "RangeIndex: 18 entries, 0 to 17\n",
      "Data columns (total 2 columns):\n",
      " #   Column              Non-Null Count  Dtype \n",
      "---  ------              --------------  ----- \n",
      " 0   Cluster Type        18 non-null     object\n",
      " 1   Number of Clusters  18 non-null     int64 \n",
      "dtypes: int64(1), object(1)\n",
      "memory usage: 416.0+ bytes\n"
     ]
    }
   ],
   "source": [
    "clusters_by_type.info()"
   ]
  },
  {
   "cell_type": "code",
   "execution_count": 12,
   "metadata": {},
   "outputs": [
    {
     "name": "stdout",
     "output_type": "stream",
     "text": [
      "<class 'pandas.core.frame.DataFrame'>\n",
      "RangeIndex: 18 entries, 0 to 17\n",
      "Data columns (total 2 columns):\n",
      " #   Column         Non-Null Count  Dtype \n",
      "---  ------         --------------  ----- \n",
      " 0   type           18 non-null     object\n",
      " 1   cluster_count  18 non-null     int64 \n",
      "dtypes: int64(1), object(1)\n",
      "memory usage: 416.0+ bytes\n"
     ]
    }
   ],
   "source": [
    "# Update the column names\n",
    "clusters_by_type.columns = ['type', 'cluster_count']\n",
    "clusters_by_type.info()"
   ]
  },
  {
   "cell_type": "code",
   "execution_count": 16,
   "metadata": {},
   "outputs": [
    {
     "name": "stdout",
     "output_type": "stream",
     "text": [
      "['Bar' 'Church' 'College / University' 'Commercial-Warehouse'\n",
      " 'Congregate Living' 'Construction' 'Correctional Facility' 'Gym' 'LTCF'\n",
      " 'Office' 'Other' 'Restaurant' 'School' 'Social Gathering']\n",
      "['Bar' 'Church' 'College / University' 'Commercial-Warehouse'\n",
      " 'Congregate Living' 'Construction' 'Correctional Facility' 'Day Care'\n",
      " 'Food Production' 'Grocery' 'Gym' 'Healthcare, non-LTCF' 'LTCF' 'Office'\n",
      " 'Other' 'Restaurant' 'School' 'Social Gathering']\n"
     ]
    }
   ],
   "source": [
    "# Compare the cluster types in the two dataframes\n",
    "print(clusters.sort_values('type').type.unique())\n",
    "print(clusters_by_type.sort_values('type').type.unique())"
   ]
  },
  {
   "cell_type": "markdown",
   "metadata": {},
   "source": [
    "The list looks largely the same, though there are some cluster types that are not represented in the individual `clusters` dataset. Based on my understanding of COVID-19 data aggregation practices, that might be to protect the privacy of individuals diagnosed with COVID-19 in small clusters."
   ]
  },
  {
   "cell_type": "code",
   "execution_count": 18,
   "metadata": {},
   "outputs": [
    {
     "data": {
      "image/png": "[encoded data removed]",
      "text/plain": [
       "<Figure size 432x288 with 1 Axes>"
      ]
     },
     "metadata": {
      "needs_background": "light"
     },
     "output_type": "display_data"
    }
   ],
   "source": [
    "clusters_by_type.hist();"
   ]
  },
  {
   "cell_type": "code",
   "execution_count": null,
   "metadata": {},
   "outputs": [],
   "source": []
  }
 ],
 "metadata": {
  "kernelspec": {
   "display_name": "Python 3",
   "language": "python",
   "name": "python3"
  },
  "language_info": {
   "codemirror_mode": {
    "name": "ipython",
    "version": 3
   },
   "file_extension": ".py",
   "mimetype": "text/x-python",
   "name": "python",
   "nbconvert_exporter": "python",
   "pygments_lexer": "ipython3",
   "version": "3.8.3"
  }
 },
 "nbformat": 4,
 "nbformat_minor": 4
}
