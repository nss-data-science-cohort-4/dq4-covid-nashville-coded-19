{
 "cells": [
  {
   "cell_type": "markdown",
   "metadata": {},
   "source": [
    "# COVID-19 Clusters Mapping\n",
    "\n",
    "The Metro Public Health Department tracks COVID-19 clusters. The files `clusters.csv` and `clusters_by_type.csv` contain the tables of clusters as reported by [WSMV](https://www.wsmv.com/news/metro-health-releases-latest-covid-19-clusters/article_ef554e08-1558-11eb-b290-873345e174d7.html) along with the coordinates of the clusters. Can you find any connection between the reported COVID violations and subsequent COVID clusters?"
   ]
  },
  {
   "cell_type": "code",
   "execution_count": 1,
   "metadata": {},
   "outputs": [],
   "source": [
    "# import statements\n",
    "import pandas as pd\n",
    "import numpy as np\n",
    "from shapely.geometry import Point\n",
    "import geopandas as gpd\n",
    "import matplotlib.pyplot as plt\n",
    "# import contextily as ctx\n",
    "import folium\n",
    "from folium.plugins import MarkerCluster\n",
    "from folium.plugins import FastMarkerCluster\n",
    "from cartopy.io import shapereader\n",
    "%matplotlib inline"
   ]
  },
  {
   "cell_type": "code",
   "execution_count": 2,
   "metadata": {},
   "outputs": [],
   "source": [
    "# display settings\n",
    "pd.set_option('display.max_rows', 500)\n",
    "pd.set_option('display.max_columns', 500)\n",
    "pd.set_option('display.width', 1000)"
   ]
  },
  {
   "cell_type": "markdown",
   "metadata": {},
   "source": [
    "### Read in a base map of Davidson County, parsed by zipcode"
   ]
  },
  {
   "cell_type": "code",
   "execution_count": 3,
   "metadata": {
    "scrolled": true
   },
   "outputs": [
    {
     "name": "stdout",
     "output_type": "stream",
     "text": [
      "epsg:4326\n"
     ]
    },
    {
     "data": {
      "text/html": [
       "<div>\n",
       "<style scoped>\n",
       "    .dataframe tbody tr th:only-of-type {\n",
       "        vertical-align: middle;\n",
       "    }\n",
       "\n",
       "    .dataframe tbody tr th {\n",
       "        vertical-align: top;\n",
       "    }\n",
       "\n",
       "    .dataframe thead th {\n",
       "        text-align: right;\n",
       "    }\n",
       "</style>\n",
       "<table border=\"1\" class=\"dataframe\">\n",
       "  <thead>\n",
       "    <tr style=\"text-align: right;\">\n",
       "      <th></th>\n",
       "      <th>zip</th>\n",
       "      <th>objectid</th>\n",
       "      <th>po_name</th>\n",
       "      <th>shape_stlength</th>\n",
       "      <th>shape_starea</th>\n",
       "      <th>geometry</th>\n",
       "    </tr>\n",
       "  </thead>\n",
       "  <tbody>\n",
       "    <tr>\n",
       "      <th>0</th>\n",
       "      <td>37115</td>\n",
       "      <td>1</td>\n",
       "      <td>MADISON</td>\n",
       "      <td>178783.02488886821</td>\n",
       "      <td>596553400.57885742</td>\n",
       "      <td>MULTIPOLYGON (((-86.68725 36.31821, -86.68722 ...</td>\n",
       "    </tr>\n",
       "    <tr>\n",
       "      <th>1</th>\n",
       "      <td>37216</td>\n",
       "      <td>3</td>\n",
       "      <td>NASHVILLE</td>\n",
       "      <td>75820.997821400058</td>\n",
       "      <td>188884682.28344727</td>\n",
       "      <td>MULTIPOLYGON (((-86.73451 36.23774, -86.73425 ...</td>\n",
       "    </tr>\n",
       "    <tr>\n",
       "      <th>2</th>\n",
       "      <td>37204</td>\n",
       "      <td>9</td>\n",
       "      <td>NASHVILLE</td>\n",
       "      <td>93180.292250425613</td>\n",
       "      <td>200664795.51708984</td>\n",
       "      <td>MULTIPOLYGON (((-86.77914 36.13424, -86.77923 ...</td>\n",
       "    </tr>\n",
       "    <tr>\n",
       "      <th>3</th>\n",
       "      <td>37027</td>\n",
       "      <td>11</td>\n",
       "      <td>BRENTWOOD</td>\n",
       "      <td>159760.6942933173</td>\n",
       "      <td>174978422.04101562</td>\n",
       "      <td>MULTIPOLYGON (((-86.81258 36.06319, -86.81263 ...</td>\n",
       "    </tr>\n",
       "    <tr>\n",
       "      <th>4</th>\n",
       "      <td>37064</td>\n",
       "      <td>18</td>\n",
       "      <td>FRANKLIN</td>\n",
       "      <td>28995.828320601937</td>\n",
       "      <td>46969608.005737305</td>\n",
       "      <td>MULTIPOLYGON (((-87.02197 36.01200, -87.02140 ...</td>\n",
       "    </tr>\n",
       "  </tbody>\n",
       "</table>\n",
       "</div>"
      ],
      "text/plain": [
       "     zip objectid    po_name      shape_stlength        shape_starea                                           geometry\n",
       "0  37115        1    MADISON  178783.02488886821  596553400.57885742  MULTIPOLYGON (((-86.68725 36.31821, -86.68722 ...\n",
       "1  37216        3  NASHVILLE  75820.997821400058  188884682.28344727  MULTIPOLYGON (((-86.73451 36.23774, -86.73425 ...\n",
       "2  37204        9  NASHVILLE  93180.292250425613  200664795.51708984  MULTIPOLYGON (((-86.77914 36.13424, -86.77923 ...\n",
       "3  37027       11  BRENTWOOD   159760.6942933173  174978422.04101562  MULTIPOLYGON (((-86.81258 36.06319, -86.81263 ...\n",
       "4  37064       18   FRANKLIN  28995.828320601937  46969608.005737305  MULTIPOLYGON (((-87.02197 36.01200, -87.02140 ..."
      ]
     },
     "execution_count": 3,
     "metadata": {},
     "output_type": "execute_result"
    }
   ],
   "source": [
    "davidson = gpd.read_file('../data/zipcodes.geojson')\n",
    "print(davidson.crs)\n",
    "davidson.head()"
   ]
  },
  {
   "cell_type": "code",
   "execution_count": 4,
   "metadata": {},
   "outputs": [
    {
     "data": {
      "image/png": "[encoded data removed]",
      "text/plain": [
       "<Figure size 432x288 with 1 Axes>"
      ]
     },
     "metadata": {
      "needs_background": "light"
     },
     "output_type": "display_data"
    }
   ],
   "source": [
    "davidson.plot();"
   ]
  },
  {
   "cell_type": "markdown",
   "metadata": {},
   "source": [
    "### Create some geo dataframes to map things"
   ]
  },
  {
   "cell_type": "code",
   "execution_count": 5,
   "metadata": {},
   "outputs": [
    {
     "ename": "NameError",
     "evalue": "name 'violations_by_loc' is not defined",
     "output_type": "error",
     "traceback": [
      "\u001b[1;31m---------------------------------------------------------------------------\u001b[0m",
      "\u001b[1;31mNameError\u001b[0m                                 Traceback (most recent call last)",
      "\u001b[1;32m<ipython-input-5-ea59353a7a13>\u001b[0m in \u001b[0;36m<module>\u001b[1;34m\u001b[0m\n\u001b[0;32m      1\u001b[0m \u001b[1;31m# Create a geopandas dataframe based on the violations data, grouped by location\u001b[0m\u001b[1;33m\u001b[0m\u001b[1;33m\u001b[0m\u001b[1;33m\u001b[0m\u001b[0m\n\u001b[0;32m      2\u001b[0m violations_by_loc_geo = gpd.GeoDataFrame(\n\u001b[1;32m----> 3\u001b[1;33m     violations_by_loc, crs = davidson.crs, geometry = gpd.points_from_xy(violations_by_loc.long, violations_by_loc.lat))\n\u001b[0m\u001b[0;32m      4\u001b[0m \u001b[1;33m\u001b[0m\u001b[0m\n\u001b[0;32m      5\u001b[0m \u001b[1;31m# Make sure it worked\u001b[0m\u001b[1;33m\u001b[0m\u001b[1;33m\u001b[0m\u001b[1;33m\u001b[0m\u001b[0m\n",
      "\u001b[1;31mNameError\u001b[0m: name 'violations_by_loc' is not defined"
     ]
    }
   ],
   "source": [
    "# Create a geopandas dataframe based on the violations data, grouped by location\n",
    "violations_by_loc_geo = gpd.GeoDataFrame(\n",
    "    violations_by_loc, crs = davidson.crs, geometry = gpd.points_from_xy(violations_by_loc.long, violations_by_loc.lat))\n",
    "\n",
    "# Make sure it worked\n",
    "violations_by_loc_geo.head()"
   ]
  },
  {
   "cell_type": "code",
   "execution_count": null,
   "metadata": {},
   "outputs": [],
   "source": [
    "# # Create a geopandas dataframe based on the violations data, grouped by location\n",
    "# violations_geo = gpd.GeoDataFrame(\n",
    "#     violations, geometry = gpd.points_from_xy(violations.long, violations.lat))\n",
    "\n",
    "# # Make sure it worked\n",
    "# violations_geo.head()"
   ]
  },
  {
   "cell_type": "code",
   "execution_count": null,
   "metadata": {},
   "outputs": [],
   "source": [
    "# If using the full violations dataset\n",
    "# violations_geo = violations_geo.drop(['datetime_opened', 'address', 'city', 'zip', 'lat', 'long', 'coord'], axis = 1)"
   ]
  },
  {
   "cell_type": "code",
   "execution_count": null,
   "metadata": {},
   "outputs": [],
   "source": [
    "# # Set the CRS\n",
    "# violations_geo = violations_geo.set_crs(epsg=4326)\n",
    "# print(violations_geo.crs)"
   ]
  },
  {
   "cell_type": "code",
   "execution_count": null,
   "metadata": {},
   "outputs": [],
   "source": [
    "# violations_geo.info()"
   ]
  },
  {
   "cell_type": "code",
   "execution_count": null,
   "metadata": {},
   "outputs": [],
   "source": [
    "# Create a geopandas dataframe based on the cleaned-up clusters dataframe\n",
    "clusters_geo = gpd.GeoDataFrame(\n",
    "    clusters, crs = davidson.crs, geometry = gpd.points_from_xy(clusters.long, clusters.lat))\n",
    "\n",
    "# Make sure it worked\n",
    "clusters_geo.head()"
   ]
  },
  {
   "cell_type": "code",
   "execution_count": null,
   "metadata": {},
   "outputs": [],
   "source": [
    "clusters_geo = clusters_geo.drop(['lat', 'long'], axis = 1)"
   ]
  },
  {
   "cell_type": "code",
   "execution_count": null,
   "metadata": {},
   "outputs": [],
   "source": [
    "clusters_geo.info()"
   ]
  },
  {
   "cell_type": "code",
   "execution_count": null,
   "metadata": {},
   "outputs": [],
   "source": [
    "# Join the clusters and violations data to the base map of Davidson County\n",
    "violations_by_zip = gpd.sjoin(violations_by_loc_geo, davidson, op = 'within')"
   ]
  },
  {
   "cell_type": "code",
   "execution_count": null,
   "metadata": {
    "scrolled": true
   },
   "outputs": [],
   "source": [
    "violations_by_zip.head()"
   ]
  },
  {
   "cell_type": "code",
   "execution_count": null,
   "metadata": {},
   "outputs": [],
   "source": [
    "# Quick cleanup\n",
    "violations_by_zip = violations_by_zip.rename(columns = {'request_no' : 'total_violations'})\n",
    "violations_by_zip = violations_by_zip.drop('index_right', axis = 1)\n",
    "violations_by_zip.head()"
   ]
  },
  {
   "cell_type": "code",
   "execution_count": null,
   "metadata": {},
   "outputs": [],
   "source": [
    "ax = davidson.plot(figsize = (10, 10), color = 'cadetblue')\n",
    "violations_by_zip.plot(ax = ax, markersize = violations_by_zip['total_violations'], color = 'ivory');"
   ]
  },
  {
   "cell_type": "code",
   "execution_count": null,
   "metadata": {},
   "outputs": [],
   "source": [
    "# Another attempt to get a decent basemap\n",
    "ax = violations_by_zip.plot(figsize = (10, 10), alpha = 0.5, markersize = violations_by_zip['total_violations'])\n",
    "ctx.add_basemap(ax, source = ctx.providers.Stamen.Toner, zoom = 12)"
   ]
  },
  {
   "cell_type": "code",
   "execution_count": null,
   "metadata": {},
   "outputs": [],
   "source": [
    "# Let's try folium\n",
    "covid_map = folium.Map(\n",
    "    location=[36.1627, -86.7816],\n",
    "    tiles='Stamen Toner',\n",
    "    zoom_start=11\n",
    ")"
   ]
  },
  {
   "cell_type": "code",
   "execution_count": null,
   "metadata": {},
   "outputs": [],
   "source": [
    "# # DON'T RUN ME, I WILL CRASH THE NOTEBOOK\n",
    "# for row_index, row_values in violations_by_zip.iterrows():\n",
    "#     loc = [row_values['lat'], row_values['long']]\n",
    "#     pop = str(row_values['total_violations'])\n",
    "#     marker = folium.Marker(\n",
    "#         location = loc, \n",
    "#         popup = pop) \n",
    "    \n",
    "#     marker.add_to(covid_map)\n",
    "# covid_map.save('..covid_map.html')\n",
    "\n",
    "# #display the map\n",
    "# covid_map"
   ]
  },
  {
   "cell_type": "code",
   "execution_count": null,
   "metadata": {},
   "outputs": [],
   "source": [
    "clusters_by_zip = gpd.sjoin(clusters_geo, davidson, op = 'within')\n",
    "clusters_by_zip.head()"
   ]
  },
  {
   "cell_type": "code",
   "execution_count": null,
   "metadata": {},
   "outputs": [],
   "source": [
    "ax = davidson.plot(figsize = (10, 10), color = 'cadetblue')\n",
    "clusters_by_zip.plot(ax = ax, markersize = clusters_by_zip['case_count'], color = 'ivory');"
   ]
  },
  {
   "cell_type": "markdown",
   "metadata": {},
   "source": [
    "### Join the two maps together"
   ]
  },
  {
   "cell_type": "code",
   "execution_count": null,
   "metadata": {},
   "outputs": [],
   "source": [
    "clusters_and_violations_geo = clusters_by_zip.append(violations_by_zip)\n",
    "clusters_and_violations_geo.info()"
   ]
  },
  {
   "cell_type": "code",
   "execution_count": null,
   "metadata": {},
   "outputs": [],
   "source": [
    "clusters_and_violations_geo.head()"
   ]
  },
  {
   "cell_type": "code",
   "execution_count": null,
   "metadata": {
    "scrolled": true
   },
   "outputs": [],
   "source": [
    "ax = davidson.plot(figsize = (10, 10), color = 'cadetblue')\n",
    "clusters_and_violations_geo.plot(ax = ax, markersize = ['case_count', 'total_violations'], color = ['ivory', 'red']);"
   ]
  },
  {
   "cell_type": "code",
   "execution_count": null,
   "metadata": {},
   "outputs": [],
   "source": []
  }
 ],
 "metadata": {
  "kernelspec": {
   "display_name": "Python 3",
   "language": "python",
   "name": "python3"
  },
  "language_info": {
   "codemirror_mode": {
    "name": "ipython",
    "version": 3
   },
   "file_extension": ".py",
   "mimetype": "text/x-python",
   "name": "python",
   "nbconvert_exporter": "python",
   "pygments_lexer": "ipython3",
   "version": "3.8.5"
  }
 },
 "nbformat": 4,
 "nbformat_minor": 4
}
